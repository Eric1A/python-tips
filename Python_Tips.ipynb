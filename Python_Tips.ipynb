{
 "cells": [
  {
   "cell_type": "markdown",
   "metadata": {},
   "source": [
    "## Wrap a string in a fileIO object"
   ]
  },
  {
   "cell_type": "code",
   "execution_count": 1,
   "metadata": {},
   "outputs": [
    {
     "data": {
      "text/plain": [
       "'foo'"
      ]
     },
     "execution_count": 1,
     "metadata": {},
     "output_type": "execute_result"
    }
   ],
   "source": [
    "#from cStringIO import StringIO ##### PYTHON 2\n",
    "from io import StringIO         ##### PYTHON 3\n",
    "f = StringIO('foo')\n",
    "f.read()"
   ]
  },
  {
   "cell_type": "markdown",
   "metadata": {},
   "source": [
    "## Unpacking Lists and Dictionaries with * and **"
   ]
  },
  {
   "cell_type": "code",
   "execution_count": 3,
   "metadata": {},
   "outputs": [
    {
     "name": "stdout",
     "output_type": "stream",
     "text": [
      "Nested lists without unpacking:   [[1, 2], [1, 5]]\n",
      "Flat list with unpacking:         [1, 2, 1, 5]\n"
     ]
    }
   ],
   "source": [
    "lst1 = [1,2]\n",
    "lst2 = [1,5]\n",
    "print('Nested lists without unpacking:  ', [lst1, lst2])\n",
    "print('Flat list with unpacking:        ', [*lst1, *lst2])"
   ]
  },
  {
   "cell_type": "code",
   "execution_count": 6,
   "metadata": {},
   "outputs": [
    {
     "name": "stdout",
     "output_type": "stream",
     "text": [
      "** to unpack a dictionary:  {'a': 1, 'b': 4, 'c': 8}\n",
      "*  to unpack a list:        {'b', 'a', 'c'}\n"
     ]
    }
   ],
   "source": [
    "d1 = {'a':1, 'b':2}\n",
    "d2 = {'b':4, 'c':8}\n",
    "\n",
    "# **d1 unpacks a dictionary \n",
    "# If there are overlapping keys, keeps the value for the right most dictionary.\n",
    "print( '** to unpack a dictionary: ',{**d1, **d2} )\n",
    "\n",
    "#  *lst unpacks a list\n",
    "# d1 is the unpacked list of keys only; {lst, lst} is a set\n",
    "print('*  to unpack a list:       ',{*d1, *d2}) "
   ]
  },
  {
   "cell_type": "code",
   "execution_count": null,
   "metadata": {},
   "outputs": [],
   "source": []
  }
 ],
 "metadata": {
  "interpreter": {
   "hash": "7bc8a915dcdc20690fe44e7c2d78c26708314275b8d809d0a3e566d06160925b"
  },
  "kernelspec": {
   "display_name": "Python 3.7.9 64-bit ('py37': conda)",
   "name": "python3"
  },
  "language_info": {
   "codemirror_mode": {
    "name": "ipython",
    "version": 3
   },
   "file_extension": ".py",
   "mimetype": "text/x-python",
   "name": "python",
   "nbconvert_exporter": "python",
   "pygments_lexer": "ipython3",
   "version": "3.7.9"
  }
 },
 "nbformat": 4,
 "nbformat_minor": 4
}
